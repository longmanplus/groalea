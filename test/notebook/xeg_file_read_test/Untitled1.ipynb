{
 "metadata": {
  "name": "",
  "signature": "sha256:7a972c0d0c898f31285d6100e2aa9e2ddef9f8cb1e7fb6cc8292a1fbd66c634c"
 },
 "nbformat": 3,
 "nbformat_minor": 0,
 "worksheets": [
  {
   "cells": [
    {
     "cell_type": "code",
     "collapsed": false,
     "input": [
      "from openalea.groalea.topology import RootedGraph\n",
      "from openalea.groalea.graphio_copy_test_splitScene_Rg import xml2graph, scenegraph\n",
      "from openalea import groalea"
     ],
     "language": "python",
     "metadata": {},
     "outputs": [],
     "prompt_number": 1
    },
    {
     "cell_type": "code",
     "collapsed": false,
     "input": [
      "%gui qt"
     ],
     "language": "python",
     "metadata": {},
     "outputs": [],
     "prompt_number": 2
    },
    {
     "cell_type": "code",
     "collapsed": false,
     "input": [
      "fo = open(\"/home/groimp/Temp/cylinder_test.xeg\", \"r\")\n",
      "rdc = fo.read()\n",
      "print rdc"
     ],
     "language": "python",
     "metadata": {},
     "outputs": [
      {
       "output_type": "stream",
       "stream": "stdout",
       "text": [
        "<graph>\n",
        "\t<node id=\"2\" name=\"32803\" type=\"Cylinder\">\n",
        "\t<property name=\"length\" value=\"2.091\">\n",
        "\t</property>\n",
        "\t<property name=\"radius\" value=\"0.0156853534639\">\n",
        "\t</property>\n",
        "\t\n",
        "\n",
        "\t<property name=\"color\">\n",
        "\t<rgb>\n",
        "\t\t\t0.19216 0.11373 0.09804\n",
        "\t</rgb>\n",
        "\t</property>\n",
        "    </node>\n",
        "\n",
        "  <root root_id=\"1\"/>\n",
        "  <edge id=\"1\" src_id=\"1\" dest_id=\"2\" type=\"successor\"/>\n",
        "</graph>\n",
        "\n"
       ]
      }
     ],
     "prompt_number": 3
    },
    {
     "cell_type": "code",
     "collapsed": false,
     "input": [
      "rg_mpt = xml2graph(\"/home/groimp/Temp/bs_test.xeg\")\n",
      "from pprint import pprint\n",
      "pprint(vars(rg_mpt))"
     ],
     "language": "python",
     "metadata": {},
     "outputs": [
      {
       "output_type": "stream",
       "stream": "stdout",
       "text": [
        "after parse\n",
        "Dispatch elt :  <Element 'graph' at 0x7ff20030dd10>\n",
        "list(elt) :  [<Element 'node' at 0x7ff1f4089490>, <Element 'root' at 0x7ff1f4089c50>, <Element 'edge' at 0x7ff1f4089c90>]\n",
        "Dispatch elt.tag : graph\n",
        "Dispatch elt.attrib {}\n",
        "self.__getattribute__(elt.tag) <bound method Parser.graph of <openalea.groalea.graphio_copy_test_splitScene_Rg.Parser object at 0x7ff1f4089390>>\n",
        "elt.getchildren() :  [<Element 'node' at 0x7ff1f4089490>, <Element 'root' at 0x7ff1f4089c50>, <Element 'edge' at 0x7ff1f4089c90>]\n",
        "Dispatch elt :  <Element 'node' at 0x7ff1f4089490>\n",
        "list(elt) :  [<Element 'property' at 0x7ff1f4089b10>, <Element 'property' at 0x7ff1f4089b50>, <Element 'property' at 0x7ff1f4089b90>, <Element 'property' at 0x7ff1f4089bd0>]\n",
        "Dispatch elt.tag : node\n",
        "Dispatch elt.attrib {'type': 'BezierSurface', 'id': '2', 'name': 'SM_4111'}\n",
        "self.__getattribute__(elt.tag) <bound method Parser.node of <openalea.groalea.graphio_copy_test_splitScene_Rg.Parser object at 0x7ff1f4089390>>\n",
        "elt.getchildren() :  [<Element 'property' at 0x7ff1f4089b10>, <Element 'property' at 0x7ff1f4089b50>, <Element 'property' at 0x7ff1f4089b90>, <Element 'property' at 0x7ff1f4089bd0>]\n",
        "#### get in BezierSurface func\n",
        "Dispatch elt :  <Element 'root' at 0x7ff1f4089c50>\n",
        "list(elt) :  []\n",
        "Dispatch elt.tag : root\n",
        "Dispatch elt.attrib {'root_id': '1'}\n",
        "self.__getattribute__(elt.tag) <bound method Parser.root of <openalea.groalea.graphio_copy_test_splitScene_Rg.Parser object at 0x7ff1f4089390>>\n",
        "elt.getchildren() :  []\n",
        "Dispatch elt :  <Element 'edge' at 0x7ff1f4089c90>\n",
        "list(elt) :  []\n",
        "Dispatch elt.tag : edge\n",
        "Dispatch elt.attrib {'src_id': '1', 'dest_id': '2', 'type': 'successor', 'id': '1'}\n",
        "self.__getattribute__(elt.tag) <bound method Parser.edge of <openalea.groalea.graphio_copy_test_splitScene_Rg.Parser object at 0x7ff1f4089390>>\n",
        "elt.getchildren() :  []\n",
        "{'_edge_property': {'edge_type': {1: '<'}},\n",
        " '_edges': {1: (1, 2)},\n",
        " '_eid_generator': <openalea.core.graph.id_generator.IdGenerator object at 0x7ff1f4089d90>,\n",
        " '_root': 1,\n",
        " '_types': {},\n",
        " '_vertex_property': {'color': {2: Color3(0,58,6)},\n",
        "                      'final_geometry': {2: <openalea.plantgl.scenegraph._pglsg.Shape object at 0x7ff1f4098680>},\n",
        "                      'geometry': {2: <openalea.plantgl.scenegraph._pglsg.BezierPatch object at 0x7ff1f40984c8>},\n",
        "                      'name': {2: 'SM_4111'},\n",
        "                      'parameters': {2: {'data': '-0.01,-0.01,1.0,1.0,0.0,-0.02,0.99,1.0,0.0,-0.01,1.0,1.0,0.0,-0.01,1.0,1.0,-0.43,0.13,0.76,1.0,-0.16,0.34,0.27,1.0,0.21,0.34,0.27,1.0,0.43,0.12,0.76,1.0,-0.75,0.0,0.19,1.0,-0.25,0.0,0.19,1.0,0.25,0.0,0.19,1.0,0.75,0.0,0.19,1.0,-0.01,0.0,-0.01,1.0,-0.01,0.0,-0.01,1.0,0.0,0.0,-0.01,1.0,-0.01,0.0,-0.01,1.0',\n",
        "                                         'dimension': '4',\n",
        "                                         'uCount': '4'}},\n",
        "                      'transform': {},\n",
        "                      'turtle_state': {2: <openalea.groalea.geometry.TurtleState object at 0x7ff1f4089e50>},\n",
        "                      'type': {2: 'BezierSurface'}},\n",
        " '_vertices': {1: (set([]), set([1])), 2: (set([1]), set([]))},\n",
        " '_vid_generator': <openalea.core.graph.id_generator.IdGenerator object at 0x7ff1f4089d50>}\n"
       ]
      }
     ],
     "prompt_number": 4
    },
    {
     "cell_type": "code",
     "collapsed": false,
     "input": [
      "import openalea.plantgl.all as pgl\n",
      "final_geometry = rg_mpt.vertex_property(\"final_geometry\")\n",
      "scene = pgl.Scene()\n",
      "scene.merge(pgl.Scene(final_geometry.values()))"
     ],
     "language": "python",
     "metadata": {},
     "outputs": [],
     "prompt_number": 5
    },
    {
     "cell_type": "code",
     "collapsed": false,
     "input": [
      "from openalea.plantgl.all import Viewer\n",
      "Viewer.display(scene)"
     ],
     "language": "python",
     "metadata": {},
     "outputs": [],
     "prompt_number": 6
    },
    {
     "cell_type": "code",
     "collapsed": false,
     "input": [],
     "language": "python",
     "metadata": {},
     "outputs": [],
     "prompt_number": 5
    },
    {
     "cell_type": "code",
     "collapsed": false,
     "input": [],
     "language": "python",
     "metadata": {},
     "outputs": []
    }
   ],
   "metadata": {}
  }
 ]
}