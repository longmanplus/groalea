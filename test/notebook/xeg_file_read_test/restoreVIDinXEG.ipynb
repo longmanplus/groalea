{
 "metadata": {
  "name": "",
  "signature": "sha256:4f4cf88d301a6444af5155c05986446649a50fe93b596708f0d899fae2e48150"
 },
 "nbformat": 3,
 "nbformat_minor": 0,
 "worksheets": [
  {
   "cells": [
    {
     "cell_type": "code",
     "collapsed": false,
     "input": [
      "import xml.etree.ElementTree as xml\n",
      "from pprint import pprint\n",
      "doc = xml.parse(\"/home/groimp/Small_tree_exported.xeg\")\n",
      "root = doc.getroot()\n",
      "for node in root.findall('node'):\n",
      "    old_id = node.attrib['id']\n",
      "    if node.attrib['name'].split(\".\")[1] == old_id:\n",
      "        new_id = str(int(node.attrib['name'].split(\".\")[1]) * 10)\n",
      "        node.attrib['id'] = new_id\n",
      "        for edge in root.findall('edge'):\n",
      "            if edge.attrib['src_id'] == old_id:\n",
      "                edge.attrib['src_id'] = new_id\n",
      "            elif edge.attrib['dest_id'] == old_id:\n",
      "                edge.attrib['dest_id'] = new_id\n",
      "                \n",
      "doc.write(\"/home/groimp/Small_tree_changenodeid.xeg\")\n",
      "\n",
      "     "
     ],
     "language": "python",
     "metadata": {},
     "outputs": [],
     "prompt_number": 19
    },
    {
     "cell_type": "code",
     "collapsed": false,
     "input": [],
     "language": "python",
     "metadata": {},
     "outputs": []
    }
   ],
   "metadata": {}
  }
 ]
}