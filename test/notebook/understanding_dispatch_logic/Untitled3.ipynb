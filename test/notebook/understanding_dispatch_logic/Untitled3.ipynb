{
 "metadata": {
  "name": "",
  "signature": "sha256:90f63953cef944083c9b53dd451670d811509fc7d5b8db32745c802d7fa47eef"
 },
 "nbformat": 3,
 "nbformat_minor": 0,
 "worksheets": [
  {
   "cells": [
    {
     "cell_type": "code",
     "collapsed": false,
     "input": [
      "from openalea import groalea\n",
      "from openalea.groalea.graphio_copy_test import xml2graph, graph2xml"
     ],
     "language": "python",
     "metadata": {},
     "outputs": [],
     "prompt_number": 1
    },
    {
     "cell_type": "code",
     "collapsed": false,
     "input": [
      "file_abs = \"/home/groimp/Dropbox/Gottingen/task1_groalea/TEST/XEG_test_graphio/graphio_test.xeg\"\n",
      "g, s = xml2graph(file_abs)"
     ],
     "language": "python",
     "metadata": {},
     "outputs": [
      {
       "output_type": "stream",
       "stream": "stdout",
       "text": [
        "pass parse intialisation\n",
        "/home/groimp/Dropbox/Gottingen/task1_groalea/TEST/XEG_test_graphio/graphio_test.xeg\n",
        "after parse\n",
        "Dispatch elt :  <Element 'graph' at 0x7f39560b35d0>\n",
        "list(elt) :  [<Element 'root' at 0x7f39560b3c50>, <Element 'node' at 0x7f39560b3c90>, <Element 'edge' at 0x7f39560b3d10>]\n",
        "Dispatch elt.tag : graph\n",
        "Dispatch elt.attrib {}\n",
        "self.__getattribute__(elt.tag) <bound method Parser.graph of <openalea.groalea.graphio_copy_test.Parser object at 0x7f39560b3450>>\n",
        "elt.getchildren() :  [<Element 'root' at 0x7f39560b3c50>, <Element 'node' at 0x7f39560b3c90>, <Element 'edge' at 0x7f39560b3d10>]\n",
        "pass graph(self, elements) function\n",
        "elements :  [<Element 'root' at 0x7f39560b3c50>, <Element 'node' at 0x7f39560b3c90>, <Element 'edge' at 0x7f39560b3d10>]\n",
        "Dispatch elt :  <Element 'root' at 0x7f39560b3c50>\n",
        "list(elt) :  []\n",
        "Dispatch elt.tag : root\n",
        "Dispatch elt.attrib {'root_id': '0'}\n",
        "self.__getattribute__(elt.tag) <bound method Parser.root of <openalea.groalea.graphio_copy_test.Parser object at 0x7f39560b3450>>\n",
        "elt.getchildren() :  []\n",
        "Dispatch elt :  <Element 'node' at 0x7f39560b3c90>\n",
        "list(elt) :  [<Element 'property' at 0x7f39560b3cd0>, <Element 'property' at 0x7f39560b3d50>]\n",
        "Dispatch elt.tag : node\n",
        "Dispatch elt.attrib {'type': 'Cylinder', 'id': '1', 'name': ''}\n",
        "self.__getattribute__(elt.tag) <bound method Parser.node of <openalea.groalea.graphio_copy_test.Parser object at 0x7f39560b3450>>\n",
        "elt.getchildren() :  [<Element 'property' at 0x7f39560b3cd0>, <Element 'property' at 0x7f39560b3d50>]\n",
        "Dispatch elt :  <Element 'edge' at 0x7f39560b3d10>\n",
        "list(elt) :  []\n",
        "Dispatch elt.tag : edge\n",
        "Dispatch elt.attrib {'src_id': '0', 'dest_id': '1', 'type': 'successor', 'id': '1'}\n",
        "self.__getattribute__(elt.tag) <bound method Parser.edge of <openalea.groalea.graphio_copy_test.Parser object at 0x7f39560b3450>>\n",
        "elt.getchildren() :  []\n",
        "graph.root <class 'openalea.groalea.topology.RootedGraph'>\n",
        "<openalea.groalea.topology.RootedGraph object at 0x7f395d0d8290>\n"
       ]
      }
     ],
     "prompt_number": 2
    },
    {
     "cell_type": "code",
     "collapsed": false,
     "input": [],
     "language": "python",
     "metadata": {},
     "outputs": []
    }
   ],
   "metadata": {}
  }
 ]
}