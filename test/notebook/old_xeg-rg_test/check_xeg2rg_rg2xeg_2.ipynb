{
 "metadata": {
  "name": "",
  "signature": "sha256:a41f2c5361410db00e50281eedb724f0104d476c298e25f7252df1b5d5f19c87"
 },
 "nbformat": 3,
 "nbformat_minor": 0,
 "worksheets": [
  {
   "cells": [
    {
     "cell_type": "code",
     "collapsed": false,
     "input": [
      "from openalea.groalea.graphio import xml2graph, graph2xml\n",
      "from openalea.plantgl.all import Viewer"
     ],
     "language": "python",
     "metadata": {},
     "outputs": [],
     "prompt_number": 8
    },
    {
     "cell_type": "code",
     "collapsed": false,
     "input": [
      "%gui qt"
     ],
     "language": "python",
     "metadata": {},
     "outputs": [],
     "prompt_number": 9
    },
    {
     "cell_type": "code",
     "collapsed": false,
     "input": [
      "graph = '''\n",
      "<graph>\n",
      "  <root root_id=\"1\"/>\n",
      "  <node id=\"6\" name=\"\" type=\"F0\">\n",
      "    <property name=\"color\">\n",
      "      <rgb>1.0 1.0 0.33333334</rgb>\n",
      "    </property>\n",
      "  </node>\n",
      "  <edge id=\"5\" src_id=\"5\" dest_id=\"6\" type=\"successor\"/>\n",
      "  <type name=\"A\">\n",
      "    <extends name=\"Sphere\"/>\n",
      "  </type>\n",
      "  <node id=\"7\" name=\"\" type=\"A\">\n",
      "    <property name=\"radius\" value=\"0.1\"/>\n",
      "    <property name=\"color\">\n",
      "      <rgb>1.0 1.0 0.33333334</rgb>\n",
      "    </property>\n",
      "  </node>\n",
      "  <edge id=\"6\" src_id=\"8\" dest_id=\"7\" type=\"successor\"/>\n",
      "  <node id=\"5\" name=\"\" type=\"P\">\n",
      "    <property name=\"color\" value=\"14\"/>\n",
      "  </node>\n",
      "  <edge id=\"4\" src_id=\"4\" dest_id=\"5\" type=\"successor\"/>\n",
      "  <node id=\"4\" name=\"\" type=\"L\">\n",
      "    <property name=\"length\" value=\"3.0\"/>\n",
      "  </node>\n",
      "  <edge id=\"3\" src_id=\"1\" dest_id=\"4\" type=\"successor\"/>\n",
      "  <node id=\"8\" name=\"\" type=\"RU\">\n",
      "    <property name=\"angle\" value=\"90.0\"/>\n",
      "  </node>\n",
      "  <edge id=\"7\" src_id=\"6\" dest_id=\"8\" type=\"successor\"/>\n",
      "</graph>\n",
      "'''"
     ],
     "language": "python",
     "metadata": {},
     "outputs": [],
     "prompt_number": 10
    },
    {
     "cell_type": "code",
     "collapsed": false,
     "input": [
      "g, scene = xml2graph(graph)\n",
      "from pprint import pprint\n",
      "pprint (vars(g))\n",
      "Viewer.display(scene)"
     ],
     "language": "python",
     "metadata": {},
     "outputs": [
      {
       "output_type": "stream",
       "stream": "stdout",
       "text": [
        "pass graph(self, elements) function\n",
        "graph.root <class 'openalea.groalea.topology.RootedGraph'>\n",
        "<openalea.groalea.topology.RootedGraph object at 0x7f470414d190>\n",
        "{'_edge_property': {'edge_type': {3: '<', 4: '<', 5: '<', 6: '<', 7: '<'}},\n",
        " '_edges': {3: (1, 4), 4: (4, 5), 5: (5, 6), 6: (8, 7), 7: (6, 8)},\n",
        " '_eid_generator': <openalea.core.graph.id_generator.IdGenerator object at 0x7f470414d210>,\n",
        " '_root': 1,\n",
        " '_types': {'A': ['Sphere']},\n",
        " '_vertex_property': {'color': {5: Color3(255,255,85),\n",
        "                                6: Color3(255,255,85),\n",
        "                                7: Color3(255,255,85),\n",
        "                                8: Color3(255,255,85)},\n",
        "                      'final_geometry': {6: <openalea.plantgl.scenegraph._pglsg.Shape object at 0x7f4704149520>,\n",
        "                                         7: <openalea.plantgl.scenegraph._pglsg.Shape object at 0x7f47041495d0>},\n",
        "                      'geometry': {6: <openalea.plantgl.scenegraph._pglsg.Cylinder object at 0x7f4704149470>,\n",
        "                                   7: <openalea.plantgl.scenegraph._pglsg.Sphere object at 0x7f47041491b0>},\n",
        "                      'name': {4: '4', 5: '5', 6: '6', 7: '7', 8: '8'},\n",
        "                      'parameters': {4: {'length': '3.0'},\n",
        "                                     5: {'color': '14'},\n",
        "                                     6: {},\n",
        "                                     7: {'radius': '0.1'},\n",
        "                                     8: {'angle': '90.0'}},\n",
        "                      'transform': {6: Matrix4( 1, 0, 0, 0 ,\n",
        "         0, 1, 0, 0 ,\n",
        "         0, 0, 1, 3 ,\n",
        "         0, 0, 0, 1 ),\n",
        "                                    8: Matrix4( 6.12323e-17, 0, 1, 0 ,\n",
        "         0, 1, 0, 0 ,\n",
        "         -1, 0, 6.12323e-17, 0 ,\n",
        "         0, 0, 0, 1 )},\n",
        "                      'turtle_state': {4: <openalea.groalea.geometry.TurtleState object at 0x7f470414d390>,\n",
        "                                       5: <openalea.groalea.geometry.TurtleState object at 0x7f470414d350>,\n",
        "                                       6: <openalea.groalea.geometry.TurtleState object at 0x7f470414d290>,\n",
        "                                       7: <openalea.groalea.geometry.TurtleState object at 0x7f470414d310>},\n",
        "                      'type': {4: 'L', 5: 'P', 6: 'F0', 7: 'A', 8: 'RU'}},\n",
        " '_vertices': {1: (set([]), set([3])),\n",
        "               4: (set([3]), set([4])),\n",
        "               5: (set([4]), set([5])),\n",
        "               6: (set([5]), set([7])),\n",
        "               7: (set([6]), set([])),\n",
        "               8: (set([7]), set([6]))},\n",
        " '_vid_generator': <openalea.core.graph.id_generator.IdGenerator object at 0x7f470414d1d0>}\n"
       ]
      }
     ],
     "prompt_number": 11
    },
    {
     "cell_type": "code",
     "collapsed": false,
     "input": [
      "xeg = graph2xml(g)\n",
      "print xeg"
     ],
     "language": "python",
     "metadata": {},
     "outputs": [
      {
       "output_type": "stream",
       "stream": "stdout",
       "text": [
        "<graph>\n",
        "\t<root root_id=\"1\">\n",
        "\t</root>\n",
        "\t<type name=\"A\">\n",
        "\t<extends name=\"Sphere\">\n",
        "\t</extends>\n",
        "\t</type>\n",
        "\t<node id=\"4\" name=\"4\" type=\"L\">\n",
        "\t<property name=\"length\" value=\"3.0\">\n",
        "\t</property>\n",
        "\t</node>\n",
        "\t<node id=\"5\" name=\"5\" type=\"P\">\n",
        "\t<property name=\"color\" value=\"14\">\n",
        "\t</property>\n",
        "\t</node>\n",
        "\t<node id=\"6\" name=\"6\" type=\"F0\">\n",
        "\t</node>\n",
        "\t<node id=\"7\" name=\"7\" type=\"A\">\n",
        "\t<property name=\"radius\" value=\"0.1\">\n",
        "\t</property>\n",
        "\t</node>\n",
        "\t<node id=\"8\" name=\"8\" type=\"RU\">\n",
        "\t<property name=\"transform\">\n",
        "\t<matrix>\n",
        "\t\t\t0.00000 0.00000 1.00000 0.00000\n",
        "\t\t\t0.00000 1.00000 0.00000 0.00000\n",
        "\t\t\t-1.00000 0.00000 0.00000 0.00000\n",
        "\t\t\t0.00000 0.00000 0.00000 1.00000\n",
        "\n",
        "</matrix>\n",
        "\t</property>\n",
        "\t<property name=\"angle\" value=\"90.0\">\n",
        "\t</property>\n",
        "\t</node>\n",
        "\t<edge dest_id=\"4\" id=\"3\" src_id=\"1\" type=\"successor\">\n",
        "\t</edge>\n",
        "\t<edge dest_id=\"5\" id=\"4\" src_id=\"4\" type=\"successor\">\n",
        "\t</edge>\n",
        "\t<edge dest_id=\"6\" id=\"5\" src_id=\"5\" type=\"successor\">\n",
        "\t</edge>\n",
        "\t<edge dest_id=\"7\" id=\"6\" src_id=\"8\" type=\"successor\">\n",
        "\t</edge>\n",
        "\t<edge dest_id=\"8\" id=\"7\" src_id=\"6\" type=\"successor\">\n",
        "\t</edge>\n",
        "\t</graph>\n",
        "\n"
       ]
      }
     ],
     "prompt_number": 13
    },
    {
     "cell_type": "code",
     "collapsed": false,
     "input": [
      "gg, sceneg = xml2graph(xeg)\n",
      "Viewer.display(sceneg)"
     ],
     "language": "python",
     "metadata": {},
     "outputs": [
      {
       "output_type": "stream",
       "stream": "stdout",
       "text": [
        "pass graph(self, elements) function\n",
        "graph.root <class 'openalea.groalea.topology.RootedGraph'>\n",
        "<openalea.groalea.topology.RootedGraph object at 0x7f470f6dee10>\n"
       ]
      }
     ],
     "prompt_number": 14
    },
    {
     "cell_type": "code",
     "collapsed": false,
     "input": [],
     "language": "python",
     "metadata": {},
     "outputs": []
    }
   ],
   "metadata": {}
  }
 ]
}