{
 "metadata": {
  "name": "",
  "signature": "sha256:20fde4368dc38372acdcc929dc8ede552324a0ce59c426ed8e7e7e86937689c5"
 },
 "nbformat": 3,
 "nbformat_minor": 0,
 "worksheets": [
  {
   "cells": [
    {
     "cell_type": "code",
     "collapsed": false,
     "input": [
      "from openalea import groalea\n",
      "from openalea.groalea.graphioCopyTest import xmlFile2graph, graph2xml, xmlObject2graph"
     ],
     "language": "python",
     "metadata": {},
     "outputs": [],
     "prompt_number": 1
    },
    {
     "cell_type": "code",
     "collapsed": false,
     "input": [
      "#file_abs = \"/home/groimp/simple_tree_newType_newName.xeg\"\n",
      "file_abs = \"/home/groimp/3_metamer_I.xeg\"\n",
      "g, s = xmlFile2graph(file_abs)\n",
      "from pprint import pprint\n",
      "pprint (vars(g))"
     ],
     "language": "python",
     "metadata": {},
     "outputs": []
    },
    {
     "cell_type": "code",
     "collapsed": false,
     "input": [
      "from copy import deepcopy\n",
      "newg = deepcopy(g)"
     ],
     "language": "python",
     "metadata": {},
     "outputs": []
    }
   ],
   "metadata": {}
  }
 ]
}