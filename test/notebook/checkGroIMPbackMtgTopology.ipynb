{
 "metadata": {
  "name": "",
  "signature": "sha256:87322456eed5b4fa8a54361dc82aa2b3e7ae8f98955aefe0e90d111419181704"
 },
 "nbformat": 3,
 "nbformat_minor": 0,
 "worksheets": [
  {
   "cells": [
    {
     "cell_type": "code",
     "collapsed": false,
     "input": [
      "from openalea import groalea\n",
      "from openalea.groalea.graphio import xmlFile2graph, graph2xml, getMTGRootedGraph\n",
      "from openalea.groalea.topology import spanning_mtg"
     ],
     "language": "python",
     "metadata": {},
     "outputs": [],
     "prompt_number": 1
    },
    {
     "cell_type": "code",
     "collapsed": false,
     "input": [
      "#file_abs = \"/home/groimp/temps/final/new_properties/Small_tree_intercepted.xeg\"\n",
      "file_abs = \"/home/groimp/temps/final/new_properties/Small_tree.xeg\"\n",
      "g, s = xmlFile2graph(file_abs, True)\n",
      "from pprint import pprint\n",
      "#pprint (vars(g))"
     ],
     "language": "python",
     "metadata": {},
     "outputs": [
      {
       "output_type": "stream",
       "stream": "stdout",
       "text": [
        "pass parse intialisation\n",
        "<StringIO.StringIO instance at 0x7fa5d68cbf80>\n",
        "after parse"
       ]
      },
      {
       "output_type": "stream",
       "stream": "stdout",
       "text": [
        "\n",
        "pass graph(self, elements) function\n",
        "graph.root <class 'openalea.groalea.topology.RootedGraph'>\n",
        "<openalea.groalea.topology.RootedGraph object at 0x7fa5d6714610>\n"
       ]
      }
     ],
     "prompt_number": 7
    },
    {
     "cell_type": "code",
     "collapsed": false,
     "input": [
      "mtg_mpt_full = spanning_mtg(g)\n",
      "for v in mtg_mpt_full.vertices(3):\n",
      "    print v, mtg_mpt_full.components(v)\n"
     ],
     "language": "python",
     "metadata": {},
     "outputs": [
      {
       "output_type": "stream",
       "stream": "stdout",
       "text": [
        "4100 [4101, 4102, 4103, 4104, 4105, 4106, 4107, 4108, 4109, 4110, 4111]\n",
        "2100 [2101, 2102, 2103, 2104, 2105, 2106, 2107, 2108, 2109, 2110, 2111]\n",
        "4200 [4201, 4202, 4203, 4204, 4205, 4206, 4207, 4208, 4209, 4210, 4211]\n",
        "4800 [4801, 4802, 4803, 4804, 4805, 4806, 4807, 4808, 4809, 4810, 4811]\n",
        "2200 [2201, 2202, 2203, 2204, 2205, 2206, 2207, 2208, 2209, 2210, 2211]\n",
        "4300 [4301, 4302, 4303]\n",
        "2300 [2301, 2302, 2303, 2304, 2305, 2306, 2307, 2308, 2309, 2310, 2311]\n",
        "300 [301, 302, 303, 304, 305, 306, 307, 308, 309]\n",
        "2400 [2401, 2402, 2403, 2404, 2405, 2406, 2407, 2408, 2409, 2410, 2411]\n",
        "4500 [4501, 4502, 4503, 4504, 4505, 4506, 4507, 4508, 4509, 4510, 4511]\n",
        "400 [401, 402, 403, 404, 405, 406, 407, 408, 409, 410, 411]\n",
        "2500 [2501, 2502, 2503, 2504, 2505, 2506, 2507, 2508, 2509, 2510, 2511]\n",
        "500 [501, 502, 503, 504, 505, 506, 507, 508, 509, 510, 511]\n",
        "2600 [2601, 2602, 2603, 2604, 2605, 2606, 2607, 2608, 2609, 2610, 2611]\n",
        "600 [601, 602, 603, 604, 605, 606, 607, 608, 609, 610, 611]\n",
        "2700 [2701, 2702, 2703, 2704, 2705, 2706, 2707, 2708, 2709, 2710, 2711]\n",
        "700 [701, 702, 703, 704, 705, 706, 707, 708, 709, 710, 711]\n",
        "4900 [4901, 4902, 4903, 4904, 4905, 4906, 4907, 4908, 4909, 4910, 4911]\n",
        "2800 [2801, 2802, 2803, 2804, 2805, 2806, 2807, 2808, 2809, 2810, 2811]\n",
        "800 [801, 802, 803, 804, 805, 806, 807, 808, 809, 810, 811]\n",
        "2900 [2901, 2902, 2903, 2904, 2905, 2906, 2907, 2908, 2909, 2910, 2911]\n",
        "900 [901, 902, 903, 904, 905, 906, 907, 908, 909, 910, 911]\n",
        "5000 [5001, 5002, 5003, 5004, 5005, 5006, 5007, 5008, 5009, 5010, 5011]\n",
        "4600 [4601, 4602, 4603, 4604, 4605, 4606, 4607, 4608, 4609, 4610, 4611]\n",
        "5100 [5101, 5102, 5103, 5104, 5105, 5106, 5107, 5108, 5109, 5110, 5111]\n",
        "3100 [3101, 3102, 3103, 3104, 3105, 3106, 3107, 3108, 3109, 3110, 3111]\n",
        "1100 [1101, 1102, 1103, 1104, 1105, 1106, 1107, 1108, 1109, 1110, 1111]\n",
        "5200 [5201, 5202, 5203, 5204, 5205, 5206, 5207, 5208, 5209, 5210, 5211]\n",
        "3200 [3201, 3202, 3203, 3204, 3205, 3206, 3207, 3208, 3209, 3210, 3211]\n",
        "1200 [1201, 1202, 1203, 1204, 1205, 1206, 1207, 1208, 1209, 1210, 1211]\n",
        "5300 [5301, 5302, 5303, 5304, 5305, 5306, 5307, 5308, 5309, 5310, 5311]\n",
        "3300 [3301, 3302, 3303, 3304, 3305, 3306, 3307, 3308, 3309, 3310, 3311]\n",
        "1300 [1301, 1302, 1303, 1304, 1305, 1306, 1307, 1308, 1309, 1310, 1311]\n",
        "5400 [5401, 5402, 5403, 5404, 5405, 5406, 5407, 5408, 5409, 5410, 5411]\n",
        "3400 [3401, 3402, 3403, 3404, 3405, 3406, 3407, 3408, 3409, 3410, 3411]\n",
        "1400 [1401, 1402, 1403, 1404, 1405, 1406, 1407, 1408, 1409, 1410, 1411]\n",
        "5500 [5501, 5502, 5503, 5504, 5505, 5506, 5507, 5508, 5509, 5510, 5511]\n",
        "3500 [3501, 3502, 3503, 3504, 3505, 3506, 3507, 3508, 3509, 3510, 3511]\n",
        "1500 [1501, 1502, 1503, 1504, 1505, 1506, 1507, 1508, 1509, 1510, 1511]\n",
        "3600 [3601, 3602, 3603, 3604, 3605, 3606, 3607, 3608, 3609, 3610, 3611]\n",
        "4700 [4701, 4702, 4703, 4704, 4705, 4706, 4707, 4708, 4709, 4710, 4711]\n",
        "1600 [1601, 1602, 1603, 1604, 1605, 1606, 1607, 1608, 1609, 1610, 1611]\n",
        "3700 [3701, 3702, 3703, 3704, 3705, 3706, 3707, 3708, 3709, 3710, 3711]\n",
        "1700 [1701, 1702, 1703, 1704, 1705, 1706, 1707, 1708, 1709, 1710, 1711]\n",
        "3800 [3801, 3802, 3803, 3804, 3805, 3806, 3807, 3808, 3809, 3810, 3811]\n",
        "4400 [4401, 4402, 4403, 4404, 4405, 4406, 4407, 4408, 4409, 4410, 4411]\n",
        "3900 [3901, 3902, 3903, 3904, 3905, 3906, 3907, 3908, 3909, 3910, 3911]\n",
        "1900 [1901, 1902, 1903, 1904, 1905, 1906, 1907, 1908, 1909, 1910, 1911]\n",
        "4000 [4001, 4002, 4003, 4004, 4005, 4006, 4007, 4008, 4009, 4010, 4011]\n",
        "2000 [2001, 2002, 2003, 2004, 2005, 2006, 2007, 2008, 2009, 2010, 2011]\n"
       ]
      }
     ],
     "prompt_number": 8
    },
    {
     "cell_type": "code",
     "collapsed": false,
     "input": [
      "newg = getMTGRootedGraph(g)"
     ],
     "language": "python",
     "metadata": {},
     "outputs": [],
     "prompt_number": 3
    },
    {
     "cell_type": "code",
     "collapsed": false,
     "input": [
      "mtg_mpt = spanning_mtg(newg)"
     ],
     "language": "python",
     "metadata": {},
     "outputs": [],
     "prompt_number": 4
    },
    {
     "cell_type": "code",
     "collapsed": false,
     "input": [
      "from openalea.deploy import shared_data\n",
      "data_dir = shared_data.shared_data(groalea, share_path='test/MappleT_docs')\n",
      "data_dir\n",
      "mtg_fn = data_dir/'Small_tree.mtg'"
     ],
     "language": "python",
     "metadata": {},
     "outputs": [],
     "prompt_number": 5
    },
    {
     "cell_type": "code",
     "collapsed": false,
     "input": [
      "from openalea.mtg.aml import *\n",
      "dic = {}\n",
      "for v in mtg_mpt.vertices(0):\n",
      "    dic[v] = mtg_mpt.components(v)\n",
      "    #print v, mtg_mpt.complex(v)\n",
      "\n",
      "mtg = MTG(mtg_fn)\n",
      "for vo in mtg.vertices(0):\n",
      "    vcomp = dic[vo]\n",
      "    print vcomp, mtg.components(vo)"
     ],
     "language": "python",
     "metadata": {},
     "outputs": [
      {
       "output_type": "stream",
       "stream": "stdout",
       "text": [
        "[1] [1]\n"
       ]
      }
     ],
     "prompt_number": 10
    },
    {
     "cell_type": "code",
     "collapsed": false,
     "input": [],
     "language": "python",
     "metadata": {},
     "outputs": []
    }
   ],
   "metadata": {}
  }
 ]
}