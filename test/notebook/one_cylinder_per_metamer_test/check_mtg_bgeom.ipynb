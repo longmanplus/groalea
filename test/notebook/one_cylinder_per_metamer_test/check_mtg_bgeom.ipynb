{
 "metadata": {
  "name": ""
 },
 "nbformat": 3,
 "nbformat_minor": 0,
 "worksheets": [
  {
   "cells": [
    {
     "cell_type": "code",
     "collapsed": false,
     "input": [
      "from openalea.plantgl.all import *\n",
      "from openalea.mtg.aml import *\n",
      "\n",
      "from openalea.groalea.convert_mtg import mappletfiles_pre\n",
      "from openalea.groalea.topology import RootedGraph\n",
      "from openalea import groalea"
     ],
     "language": "python",
     "metadata": {},
     "outputs": []
    },
    {
     "cell_type": "code",
     "collapsed": false,
     "input": [
      "%gui qt"
     ],
     "language": "python",
     "metadata": {},
     "outputs": []
    },
    {
     "cell_type": "code",
     "collapsed": false,
     "input": [
      "from openalea.deploy import shared_data\n",
      "data_dir = shared_data.shared_data(groalea, share_path='test/MappleT_docs')\n",
      "data_dir"
     ],
     "language": "python",
     "metadata": {},
     "outputs": []
    },
    {
     "cell_type": "code",
     "collapsed": false,
     "input": [
      "mtg_fn = data_dir/'genotype_1.0_FdS.mtg'\n",
      "scene_fn = data_dir/'1.0.bgeom'"
     ],
     "language": "python",
     "metadata": {},
     "outputs": []
    },
    {
     "cell_type": "code",
     "collapsed": false,
     "input": [
      "mtg, vlist, metamerlist = mappletfiles_pre(str(mtg_fn), str(scene_fn))"
     ],
     "language": "python",
     "metadata": {},
     "outputs": []
    },
    {
     "cell_type": "code",
     "collapsed": false,
     "input": [
      "metamer = None\n",
      "for vid in vlist:\n",
      "    metamer_id = Feature(vid, \"id\")\n",
      "    metamer = metamerlist[metamer_id]"
     ],
     "language": "python",
     "metadata": {},
     "outputs": []
    }
   ],
   "metadata": {}
  }
 ]
}